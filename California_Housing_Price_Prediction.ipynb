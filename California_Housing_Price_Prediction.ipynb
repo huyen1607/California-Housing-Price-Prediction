{
  "nbformat": 4,
  "nbformat_minor": 0,
  "metadata": {
    "colab": {
      "provenance": [],
      "authorship_tag": "ABX9TyPcQoY9GaHZ8hFCTZZK/Zn6",
      "include_colab_link": true
    },
    "kernelspec": {
      "name": "python3",
      "display_name": "Python 3"
    },
    "language_info": {
      "name": "python"
    }
  },
  "cells": [
    {
      "cell_type": "markdown",
      "metadata": {
        "id": "view-in-github",
        "colab_type": "text"
      },
      "source": [
        "<a href=\"https://colab.research.google.com/github/huyen1607/California-Housing-Price-Prediction/blob/main/California_Housing_Price_Prediction.ipynb\" target=\"_parent\"><img src=\"https://colab.research.google.com/assets/colab-badge.svg\" alt=\"Open In Colab\"/></a>"
      ]
    },
    {
      "cell_type": "code",
      "metadata": {
        "colab": {
          "base_uri": "https://localhost:8080/"
        },
        "id": "H4x9TnCqN5SG",
        "outputId": "ade4e689-437b-4b64-e698-5fa6223a8707"
      },
      "source": [
        "from google.colab import drive\n",
        "drive.mount('/content/drive')"
      ],
      "execution_count": null,
      "outputs": [
        {
          "output_type": "stream",
          "name": "stdout",
          "text": [
            "Mounted at /content/drive\n"
          ]
        }
      ]
    },
    {
      "cell_type": "code",
      "metadata": {
        "colab": {
          "base_uri": "https://localhost:8080/",
          "height": 70
        },
        "id": "DnhPRY-FOOF9",
        "outputId": "3f04a917-46b7-4027-9a09-610f15a50dd3"
      },
      "source": [
        "import numpy as np\n",
        "import pandas as pd\n",
        "import scipy as sp\n",
        "from scipy import stats\n",
        "\n",
        "import statsmodels.formula.api as smf\n",
        "import statsmodels.api as sm\n",
        "\n",
        "from sklearn.neural_network import MLPClassifier\n",
        "\n",
        "from sklearn.datasets import fetch_california_housing\n",
        "\n",
        "from sklearn.model_selection import train_test_split\n",
        "\n",
        "from sklearn.preprocessing import StandardScaler\n",
        "\n",
        "%precision 3"
      ],
      "execution_count": null,
      "outputs": [
        {
          "output_type": "stream",
          "name": "stderr",
          "text": [
            "/usr/local/lib/python3.7/dist-packages/statsmodels/tools/_testing.py:19: FutureWarning: pandas.util.testing is deprecated. Use the functions in the public API at pandas.testing instead.\n",
            "  import pandas.util.testing as tm\n"
          ]
        },
        {
          "output_type": "execute_result",
          "data": {
            "application/vnd.google.colaboratory.intrinsic+json": {
              "type": "string"
            },
            "text/plain": [
              "'%.3f'"
            ]
          },
          "metadata": {},
          "execution_count": 2
        }
      ]
    },
    {
      "cell_type": "code",
      "metadata": {
        "id": "TRI-Z3FbO2iH"
      },
      "source": [
        "#Bring the dataset on\n",
        "housing = fetch_california_housing()"
      ],
      "execution_count": null,
      "outputs": []
    },
    {
      "cell_type": "code",
      "metadata": {
        "colab": {
          "base_uri": "https://localhost:8080/"
        },
        "id": "l4laVCSiR3yH",
        "outputId": "131422aa-bef9-4cd2-b208-6b5576631bc9"
      },
      "source": [
        "#Independent Variables\n",
        "housing.feature_names"
      ],
      "execution_count": null,
      "outputs": [
        {
          "output_type": "execute_result",
          "data": {
            "text/plain": [
              "['MedInc',\n",
              " 'HouseAge',\n",
              " 'AveRooms',\n",
              " 'AveBedrms',\n",
              " 'Population',\n",
              " 'AveOccup',\n",
              " 'Latitude',\n",
              " 'Longitude']"
            ]
          },
          "metadata": {},
          "execution_count": 4
        }
      ]
    },
    {
      "cell_type": "code",
      "metadata": {
        "colab": {
          "base_uri": "https://localhost:8080/"
        },
        "id": "wwG_ka2xR6x9",
        "outputId": "91060101-c69b-418c-82aa-480b8174b1e1"
      },
      "source": [
        "#Dependent Variables\n",
        "housing.target_names"
      ],
      "execution_count": null,
      "outputs": [
        {
          "output_type": "execute_result",
          "data": {
            "text/plain": [
              "['MedHouseVal']"
            ]
          },
          "metadata": {},
          "execution_count": 5
        }
      ]
    },
    {
      "cell_type": "code",
      "metadata": {
        "colab": {
          "base_uri": "https://localhost:8080/"
        },
        "id": "GbZ-NpuJYRCz",
        "outputId": "934ff3eb-aee8-44bd-9665-cf8c11a84bc0"
      },
      "source": [
        "housing.target"
      ],
      "execution_count": null,
      "outputs": [
        {
          "output_type": "execute_result",
          "data": {
            "text/plain": [
              "array([4.526, 3.585, 3.521, ..., 0.923, 0.847, 0.894])"
            ]
          },
          "metadata": {},
          "execution_count": 6
        }
      ]
    },
    {
      "cell_type": "code",
      "metadata": {
        "colab": {
          "base_uri": "https://localhost:8080/"
        },
        "id": "UHPIJ8lwaRqQ",
        "outputId": "b60b80ae-dad5-4891-bc13-5b211fe2c3fb"
      },
      "source": [
        "price_df = pd.DataFrame(housing.target, columns=['MedHouseVal'])\n",
        "print(price_df)"
      ],
      "execution_count": null,
      "outputs": [
        {
          "output_type": "stream",
          "name": "stdout",
          "text": [
            "       MedHouseVal\n",
            "0            4.526\n",
            "1            3.585\n",
            "2            3.521\n",
            "3            3.413\n",
            "4            3.422\n",
            "...            ...\n",
            "20635        0.781\n",
            "20636        0.771\n",
            "20637        0.923\n",
            "20638        0.847\n",
            "20639        0.894\n",
            "\n",
            "[20640 rows x 1 columns]\n"
          ]
        }
      ]
    },
    {
      "cell_type": "code",
      "metadata": {
        "colab": {
          "base_uri": "https://localhost:8080/",
          "height": 300
        },
        "id": "9kJuXy5tb5ox",
        "outputId": "040674ef-0f7f-4430-eaaf-d849333e2162"
      },
      "source": [
        "price_df.describe()"
      ],
      "execution_count": null,
      "outputs": [
        {
          "output_type": "execute_result",
          "data": {
            "text/html": [
              "<div>\n",
              "<style scoped>\n",
              "    .dataframe tbody tr th:only-of-type {\n",
              "        vertical-align: middle;\n",
              "    }\n",
              "\n",
              "    .dataframe tbody tr th {\n",
              "        vertical-align: top;\n",
              "    }\n",
              "\n",
              "    .dataframe thead th {\n",
              "        text-align: right;\n",
              "    }\n",
              "</style>\n",
              "<table border=\"1\" class=\"dataframe\">\n",
              "  <thead>\n",
              "    <tr style=\"text-align: right;\">\n",
              "      <th></th>\n",
              "      <th>MedHouseVal</th>\n",
              "    </tr>\n",
              "  </thead>\n",
              "  <tbody>\n",
              "    <tr>\n",
              "      <th>count</th>\n",
              "      <td>20640.000000</td>\n",
              "    </tr>\n",
              "    <tr>\n",
              "      <th>mean</th>\n",
              "      <td>2.068558</td>\n",
              "    </tr>\n",
              "    <tr>\n",
              "      <th>std</th>\n",
              "      <td>1.153956</td>\n",
              "    </tr>\n",
              "    <tr>\n",
              "      <th>min</th>\n",
              "      <td>0.149990</td>\n",
              "    </tr>\n",
              "    <tr>\n",
              "      <th>25%</th>\n",
              "      <td>1.196000</td>\n",
              "    </tr>\n",
              "    <tr>\n",
              "      <th>50%</th>\n",
              "      <td>1.797000</td>\n",
              "    </tr>\n",
              "    <tr>\n",
              "      <th>75%</th>\n",
              "      <td>2.647250</td>\n",
              "    </tr>\n",
              "    <tr>\n",
              "      <th>max</th>\n",
              "      <td>5.000010</td>\n",
              "    </tr>\n",
              "  </tbody>\n",
              "</table>\n",
              "</div>"
            ],
            "text/plain": [
              "        MedHouseVal\n",
              "count  20640.000000\n",
              "mean       2.068558\n",
              "std        1.153956\n",
              "min        0.149990\n",
              "25%        1.196000\n",
              "50%        1.797000\n",
              "75%        2.647250\n",
              "max        5.000010"
            ]
          },
          "metadata": {},
          "execution_count": 8
        }
      ]
    },
    {
      "cell_type": "code",
      "source": [
        "#Define High_Price and Low_Price using the Median as Threshold\n",
        "#Encode High_Price as 1 and Low_Price as 0\n",
        "target_new = (housing.target > 1.797).astype(int)\n",
        "target_new"
      ],
      "metadata": {
        "colab": {
          "base_uri": "https://localhost:8080/"
        },
        "id": "-D41ZAkbSo8p",
        "outputId": "5f489225-9560-4e94-fbaa-8df9303861f8"
      },
      "execution_count": null,
      "outputs": [
        {
          "output_type": "execute_result",
          "data": {
            "text/plain": [
              "array([1, 1, 1, ..., 0, 0, 0])"
            ]
          },
          "metadata": {},
          "execution_count": 9
        }
      ]
    },
    {
      "cell_type": "code",
      "metadata": {
        "colab": {
          "base_uri": "https://localhost:8080/"
        },
        "id": "6XtfV9tAdYe1",
        "outputId": "c58a8e14-985a-4799-b0f9-126885963c67"
      },
      "source": [
        "#Bring on the Independent Variables: Latitude and Longtitude\n",
        "X=housing.data[0:20640,6:]\n",
        "\n",
        "y=target_new\n",
        "\n",
        "print('독립변수 행 수,열 수: ', X.shape)\n",
        "print('종속변수 행 수,열 수: ', y.shape)"
      ],
      "execution_count": null,
      "outputs": [
        {
          "output_type": "stream",
          "name": "stdout",
          "text": [
            "독립변수 행 수,열 수:  (20640, 2)\n",
            "종속변수 행 수,열 수:  (20640,)\n"
          ]
        }
      ]
    },
    {
      "cell_type": "code",
      "metadata": {
        "colab": {
          "base_uri": "https://localhost:8080/"
        },
        "id": "qWWLLpb7e0Ax",
        "outputId": "cc1886df-f3bf-460c-9b47-7f8d44838483"
      },
      "source": [
        "#Split data into train set and test set\n",
        "X_train,X_test, y_train, y_test = train_test_split(X,y,random_state=1234)\n",
        "\n",
        "print('독립변수 행 수,열 수: ', X_train.shape)\n",
        "print('종속변수 행 수,열 수: ', y_train.shape)"
      ],
      "execution_count": null,
      "outputs": [
        {
          "output_type": "stream",
          "name": "stdout",
          "text": [
            "독립변수 행 수,열 수:  (15480, 2)\n",
            "종속변수 행 수,열 수:  (15480,)\n"
          ]
        }
      ]
    },
    {
      "cell_type": "code",
      "metadata": {
        "colab": {
          "base_uri": "https://localhost:8080/"
        },
        "id": "MBDbdRb3hYaS",
        "outputId": "03d3bbba-45fc-42a0-e9f9-d5b7ee9074ba"
      },
      "source": [
        "#Dependent Variable\n",
        "y_train[0:10]"
      ],
      "execution_count": null,
      "outputs": [
        {
          "output_type": "execute_result",
          "data": {
            "text/plain": [
              "array([0, 0, 1, 1, 0, 0, 0, 1, 0, 1])"
            ]
          },
          "metadata": {},
          "execution_count": 12
        }
      ]
    },
    {
      "cell_type": "code",
      "metadata": {
        "colab": {
          "base_uri": "https://localhost:8080/"
        },
        "id": "84lr0xz3fwON",
        "outputId": "c65211a1-f7ad-45a6-c3bb-fd20b048fc16"
      },
      "source": [
        "#Rearrange the Dataframe\n",
        "\n",
        "X_train_df = pd.DataFrame(X_train, columns=['Latitude','Longtitude'])\n",
        "y_train_df = pd.DataFrame({\"Price\":y_train})\n",
        "housing_train_df = pd.concat([y_train_df,X_train_df],axis=1)\n",
        "\n",
        "print(housing_train_df.head(5))"
      ],
      "execution_count": null,
      "outputs": [
        {
          "output_type": "stream",
          "name": "stdout",
          "text": [
            "   Price  Latitude  Longtitude\n",
            "0      0     34.57     -117.93\n",
            "1      0     38.14     -121.28\n",
            "2      1     33.89     -117.86\n",
            "3      1     37.70     -122.14\n",
            "4      0     36.37     -119.65\n"
          ]
        }
      ]
    },
    {
      "cell_type": "code",
      "metadata": {
        "colab": {
          "base_uri": "https://localhost:8080/"
        },
        "id": "VTLuRb19kw0u",
        "outputId": "f5ccae6b-5b68-4f5b-aa88-bc5f38718e8f"
      },
      "source": [
        "#Logistic Regression Model\n",
        "logi_mod_full = smf.glm('Price ~ Latitude + Longtitude',data=housing_train_df,\n",
        "                        family=sm.families.Binomial()).fit()\n",
        "logi_mod_Latitude = smf.glm('Price ~ Latitude',data=housing_train_df,\n",
        "                        family=sm.families.Binomial()).fit()\n",
        "logi_mod_Longtitude = smf.glm('Price ~ Longtitude',data=housing_train_df,\n",
        "                        family=sm.families.Binomial()).fit()\n",
        "logi_mod_null = smf.glm('Price ~ 1',data=housing_train_df,\n",
        "                       family=sm.families.Binomial()).fit()\n",
        "#Compare AIC between models using different independent variables\n",
        "print('full', logi_mod_full.aic.round(3))\n",
        "print('Latitude', logi_mod_Latitude.aic.round(3))\n",
        "print('Longtitude', logi_mod_Longtitude.aic.round(3))\n",
        "print('null', logi_mod_null.aic.round(3))"
      ],
      "execution_count": null,
      "outputs": [
        {
          "output_type": "stream",
          "name": "stdout",
          "text": [
            "full 17183.208\n",
            "Latitude 21152.514\n",
            "Longtitude 21438.724\n",
            "null 21461.648\n"
          ]
        }
      ]
    },
    {
      "cell_type": "code",
      "metadata": {
        "colab": {
          "base_uri": "https://localhost:8080/",
          "height": 104
        },
        "id": "Y6_VE7Zhn3zt",
        "outputId": "ea1a234a-8c91-45f4-8ccd-08662cf02148"
      },
      "source": [
        "#Summary the performance evaluation\n",
        "logi_mod_full.summary().tables[1]"
      ],
      "execution_count": null,
      "outputs": [
        {
          "output_type": "execute_result",
          "data": {
            "text/html": [
              "<table class=\"simpletable\">\n",
              "<tr>\n",
              "       <td></td>         <th>coef</th>     <th>std err</th>      <th>z</th>      <th>P>|z|</th>  <th>[0.025</th>    <th>0.975]</th>  \n",
              "</tr>\n",
              "<tr>\n",
              "  <th>Intercept</th>  <td> -154.2069</td> <td>    3.155</td> <td>  -48.878</td> <td> 0.000</td> <td> -160.390</td> <td> -148.023</td>\n",
              "</tr>\n",
              "<tr>\n",
              "  <th>Latitude</th>   <td>   -1.8287</td> <td>    0.037</td> <td>  -49.743</td> <td> 0.000</td> <td>   -1.901</td> <td>   -1.757</td>\n",
              "</tr>\n",
              "<tr>\n",
              "  <th>Longtitude</th> <td>   -1.8333</td> <td>    0.037</td> <td>  -49.839</td> <td> 0.000</td> <td>   -1.905</td> <td>   -1.761</td>\n",
              "</tr>\n",
              "</table>"
            ],
            "text/plain": [
              "<class 'statsmodels.iolib.table.SimpleTable'>"
            ]
          },
          "metadata": {},
          "execution_count": 15
        }
      ]
    },
    {
      "cell_type": "code",
      "metadata": {
        "colab": {
          "base_uri": "https://localhost:8080/"
        },
        "id": "-OzT51-yn3pd",
        "outputId": "d3b61f2b-8ade-4d0f-ff21-9c3295db63f1"
      },
      "source": [
        "#Test\n",
        "X_test_df = pd.DataFrame(X_test, columns=[\"Latitude\",\"Longtitude\"])\n",
        "\n",
        "logi_fit = logi_mod_full.fittedvalues.round(0)\n",
        "logi_pred = logi_mod_full.predict(X_test_df).round(0)\n",
        "\n",
        "true_train=np.sum(logi_fit == (y_train))\n",
        "true_test=np.sum(logi_pred == (y_test))\n",
        "\n",
        "result_train = true_train/len(y_train)\n",
        "result_test = true_test / len(y_test)\n",
        "\n",
        "print(\"훈련데이터 적줄률:\",result_train)\n",
        "print(\"테스트 데이터 적줄률:\", result_test)"
      ],
      "execution_count": null,
      "outputs": [
        {
          "output_type": "stream",
          "name": "stdout",
          "text": [
            "훈련데이터 적줄률: 0.7172480620155038\n",
            "테스트 데이터 적줄률: 0.7304263565891473\n"
          ]
        }
      ]
    },
    {
      "cell_type": "markdown",
      "source": [
        "MLP CLassifier"
      ],
      "metadata": {
        "id": "GkiYAysjMctx"
      }
    },
    {
      "cell_type": "code",
      "source": [
        "#Preprocessing: Standardization\n",
        "scaler = StandardScaler()\n",
        "scaler.fit(X_train)\n",
        "\n",
        "X_train_scaled = scaler.transform(X_train)\n",
        "X_test_scaled = scaler.transform(X_test)"
      ],
      "metadata": {
        "id": "nINdOAPgcnlK"
      },
      "execution_count": null,
      "outputs": []
    },
    {
      "cell_type": "code",
      "source": [
        "#Check the std of train set\n",
        "np.std(X_train_scaled, axis=0)"
      ],
      "metadata": {
        "colab": {
          "base_uri": "https://localhost:8080/"
        },
        "id": "jouNGgnOc__s",
        "outputId": "f5cce424-cfc8-4ec9-e72a-fe7afbf91fc4"
      },
      "execution_count": null,
      "outputs": [
        {
          "output_type": "execute_result",
          "data": {
            "text/plain": [
              "array([1., 1.])"
            ]
          },
          "metadata": {},
          "execution_count": 19
        }
      ]
    },
    {
      "cell_type": "code",
      "source": [
        "#Check the std of test set\n",
        "np.std(X_test_scaled, axis=0)"
      ],
      "metadata": {
        "colab": {
          "base_uri": "https://localhost:8080/"
        },
        "id": "Kz_3g0kidST6",
        "outputId": "6db2bd6a-3362-4974-cb52-75cc575046a4"
      },
      "execution_count": null,
      "outputs": [
        {
          "output_type": "execute_result",
          "data": {
            "text/plain": [
              "array([0.995, 1.005])"
            ]
          },
          "metadata": {},
          "execution_count": 20
        }
      ]
    },
    {
      "cell_type": "code",
      "source": [
        "nnet = MLPClassifier(\n",
        "    hidden_layer_sizes = (100,100),\n",
        "    alpha = 0.07,\n",
        "    max_iter = 10000,\n",
        "    random_state = 0\n",
        ")\n",
        "nnet.fit(X_train_scaled, y_train)\n",
        "\n",
        "print(\"훈련데이터 적줄률:\", nnet.score(X_train_scaled, y_train))\n",
        "print(\"테스트 데이터 적줄률:\", nnet.score(X_test_scaled, y_test))"
      ],
      "metadata": {
        "colab": {
          "base_uri": "https://localhost:8080/"
        },
        "id": "0sYO-mb6dkJe",
        "outputId": "f27c8caa-4fc6-46d2-b3db-7f251429d1fd"
      },
      "execution_count": null,
      "outputs": [
        {
          "output_type": "stream",
          "name": "stdout",
          "text": [
            "훈련데이터 적줄률: 0.7850129198966408\n",
            "테스트 데이터 적줄률: 0.790891472868217\n"
          ]
        }
      ]
    },
    {
      "cell_type": "markdown",
      "source": [
        "From the performance evaluation, we can see that Logistic Regression has performed better than the Simple MLPClassifier."
      ],
      "metadata": {
        "id": "WbtBuYYMNODg"
      }
    }
  ]
}